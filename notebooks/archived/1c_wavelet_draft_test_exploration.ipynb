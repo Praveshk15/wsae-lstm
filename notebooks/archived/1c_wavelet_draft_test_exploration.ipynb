{
 "cells": [
  {
   "cell_type": "code",
   "execution_count": 91,
   "metadata": {},
   "outputs": [],
   "source": [
    "# Imports (External)\n",
    "import numpy as np\n",
    "import pandas as pd\n",
    "import datetime as dt\n",
    "import xlrd\n",
    "import xlsxwriter\n",
    "from collections import OrderedDict\n",
    "\n",
    "import sys\n",
    "sys.path.append('../')  \n",
    "\n",
    "# Visualization/plotting imports\n",
    "import matplotlib as mpl\n",
    "import matplotlib.pyplot as plt\n",
    "\n",
    "# Machine learning imports\n",
    "# import sklearn\n",
    "# import tensorflow as tf\n",
    "# import keras\n",
    "import pywt\n",
    "from pywt import wavedec, waverec\n",
    "from scipy import signal\n",
    "from statsmodels.robust import mad\n",
    "\n",
    "# Internal Imports\n",
    "from wsae_lstm.utils import dictmap_load"
   ]
  },
  {
   "cell_type": "code",
   "execution_count": 92,
   "metadata": {},
   "outputs": [],
   "source": [
    "dict_dataframes_index = dictmap_load(path = \"../data/interim/clean_data_index.xlsx\")   \n",
    "#dict_dataframes_index['csi300 index data'].info()"
   ]
  },
  {
   "cell_type": "code",
   "execution_count": 93,
   "metadata": {
    "scrolled": false
   },
   "outputs": [
    {
     "data": {
      "text/html": [
       "<div>\n",
       "<style scoped>\n",
       "    .dataframe tbody tr th:only-of-type {\n",
       "        vertical-align: middle;\n",
       "    }\n",
       "\n",
       "    .dataframe tbody tr th {\n",
       "        vertical-align: top;\n",
       "    }\n",
       "\n",
       "    .dataframe thead th {\n",
       "        text-align: right;\n",
       "    }\n",
       "</style>\n",
       "<table border=\"1\" class=\"dataframe\">\n",
       "  <thead>\n",
       "    <tr style=\"text-align: right;\">\n",
       "      <th></th>\n",
       "      <th>open</th>\n",
       "      <th>high</th>\n",
       "      <th>low</th>\n",
       "      <th>close</th>\n",
       "      <th>volume</th>\n",
       "      <th>us dollar index</th>\n",
       "      <th>shibor</th>\n",
       "      <th>macd</th>\n",
       "      <th>cci</th>\n",
       "      <th>atr</th>\n",
       "      <th>boll</th>\n",
       "      <th>ema20</th>\n",
       "      <th>ma10</th>\n",
       "      <th>mtm6</th>\n",
       "      <th>ma5</th>\n",
       "      <th>mtm12</th>\n",
       "      <th>roc</th>\n",
       "      <th>smi</th>\n",
       "      <th>wvad</th>\n",
       "    </tr>\n",
       "  </thead>\n",
       "  <tbody>\n",
       "    <tr>\n",
       "      <th>0</th>\n",
       "      <td>2799.20</td>\n",
       "      <td>2809.38</td>\n",
       "      <td>2690.18</td>\n",
       "      <td>2698.35</td>\n",
       "      <td>288515.85</td>\n",
       "      <td>72.34</td>\n",
       "      <td>2.5006</td>\n",
       "      <td>-213.078565</td>\n",
       "      <td>-128.949052</td>\n",
       "      <td>119.200</td>\n",
       "      <td>3173.475692</td>\n",
       "      <td>3033.748201</td>\n",
       "      <td>2851.2504</td>\n",
       "      <td>-91.594</td>\n",
       "      <td>2851.3262</td>\n",
       "      <td>-280.770</td>\n",
       "      <td>-9.424605</td>\n",
       "      <td>-0.097927</td>\n",
       "      <td>-8.726278e+07</td>\n",
       "    </tr>\n",
       "    <tr>\n",
       "      <th>1</th>\n",
       "      <td>2702.63</td>\n",
       "      <td>2745.94</td>\n",
       "      <td>2670.06</td>\n",
       "      <td>2699.60</td>\n",
       "      <td>279163.65</td>\n",
       "      <td>71.99</td>\n",
       "      <td>2.7238</td>\n",
       "      <td>-213.732249</td>\n",
       "      <td>-139.719688</td>\n",
       "      <td>75.875</td>\n",
       "      <td>3140.413385</td>\n",
       "      <td>3001.924277</td>\n",
       "      <td>2822.0828</td>\n",
       "      <td>-152.318</td>\n",
       "      <td>2797.3382</td>\n",
       "      <td>-252.645</td>\n",
       "      <td>-8.557733</td>\n",
       "      <td>-0.026497</td>\n",
       "      <td>-1.095493e+08</td>\n",
       "    </tr>\n",
       "  </tbody>\n",
       "</table>\n",
       "</div>"
      ],
      "text/plain": [
       "      open     high      low    close     volume  us dollar index  shibor  \\\n",
       "0  2799.20  2809.38  2690.18  2698.35  288515.85            72.34  2.5006   \n",
       "1  2702.63  2745.94  2670.06  2699.60  279163.65            71.99  2.7238   \n",
       "\n",
       "         macd         cci      atr         boll        ema20       ma10  \\\n",
       "0 -213.078565 -128.949052  119.200  3173.475692  3033.748201  2851.2504   \n",
       "1 -213.732249 -139.719688   75.875  3140.413385  3001.924277  2822.0828   \n",
       "\n",
       "      mtm6        ma5    mtm12       roc       smi          wvad  \n",
       "0  -91.594  2851.3262 -280.770 -9.424605 -0.097927 -8.726278e+07  \n",
       "1 -152.318  2797.3382 -252.645 -8.557733 -0.026497 -1.095493e+08  "
      ]
     },
     "execution_count": 93,
     "metadata": {},
     "output_type": "execute_result"
    }
   ],
   "source": [
    "data = dict_dataframes_index['csi300 index data'].drop(['date'],axis=1,inplace=True)\n",
    "data = dict_dataframes_index['csi300 index data']\n",
    "data.head(2)"
   ]
  },
  {
   "cell_type": "code",
   "execution_count": 94,
   "metadata": {},
   "outputs": [
    {
     "data": {
      "text/plain": [
       "19"
      ]
     },
     "execution_count": 94,
     "metadata": {},
     "output_type": "execute_result"
    }
   ],
   "source": [
    "len(dict_dataframes_index['csi300 index data'].columns)"
   ]
  },
  {
   "cell_type": "code",
   "execution_count": 95,
   "metadata": {},
   "outputs": [],
   "source": [
    "# Multi-level wavelet transform\n",
    "    # https://pywavelets.readthedocs.io/en/latest/ref/dwt-discrete-wavelet-transform.html#pywt.wavedec\n",
    "w = pywt.Wavelet('haar')\n",
    "coeffs = wavedec(data, w, level=2,axis=0)\n",
    "cA2, cD2, cD1 = coeffs\n",
    "# cA = Approximation coefficients\n",
    "    # Approximation (low pass)\n",
    "# cD = Detail coefficient(s)\n",
    "    # Detail (high pass)\n",
    "    # Detail cofficients represent the high freq part of the signal  "
   ]
  },
  {
   "cell_type": "code",
   "execution_count": 96,
   "metadata": {
    "scrolled": true
   },
   "outputs": [
    {
     "name": "stdout",
     "output_type": "stream",
     "text": [
      "503 503 1005\n"
     ]
    }
   ],
   "source": [
    "print(len(cA2),len(cD2),len(cD1))"
   ]
  },
  {
   "cell_type": "code",
   "execution_count": 97,
   "metadata": {},
   "outputs": [
    {
     "data": {
      "text/html": [
       "<div>\n",
       "<style scoped>\n",
       "    .dataframe tbody tr th:only-of-type {\n",
       "        vertical-align: middle;\n",
       "    }\n",
       "\n",
       "    .dataframe tbody tr th {\n",
       "        vertical-align: top;\n",
       "    }\n",
       "\n",
       "    .dataframe thead th {\n",
       "        text-align: right;\n",
       "    }\n",
       "</style>\n",
       "<table border=\"1\" class=\"dataframe\">\n",
       "  <thead>\n",
       "    <tr style=\"text-align: right;\">\n",
       "      <th></th>\n",
       "      <th>0</th>\n",
       "      <th>1</th>\n",
       "      <th>2</th>\n",
       "      <th>3</th>\n",
       "      <th>4</th>\n",
       "      <th>5</th>\n",
       "      <th>6</th>\n",
       "      <th>7</th>\n",
       "      <th>8</th>\n",
       "      <th>9</th>\n",
       "      <th>10</th>\n",
       "      <th>11</th>\n",
       "      <th>12</th>\n",
       "      <th>13</th>\n",
       "      <th>14</th>\n",
       "      <th>15</th>\n",
       "      <th>16</th>\n",
       "      <th>17</th>\n",
       "      <th>18</th>\n",
       "    </tr>\n",
       "  </thead>\n",
       "  <tbody>\n",
       "    <tr>\n",
       "      <th>0</th>\n",
       "      <td>5453.76</td>\n",
       "      <td>5573.425</td>\n",
       "      <td>5346.76</td>\n",
       "      <td>5450.205</td>\n",
       "      <td>701666.325</td>\n",
       "      <td>144.885</td>\n",
       "      <td>5.1819</td>\n",
       "      <td>-417.255691</td>\n",
       "      <td>-231.389668</td>\n",
       "      <td>226.662</td>\n",
       "      <td>6248.020462</td>\n",
       "      <td>5985.488387</td>\n",
       "      <td>5652.11220</td>\n",
       "      <td>-345.946</td>\n",
       "      <td>5570.1945</td>\n",
       "      <td>-432.450</td>\n",
       "      <td>-14.603742</td>\n",
       "      <td>-0.086456</td>\n",
       "      <td>-1.650223e+08</td>\n",
       "    </tr>\n",
       "    <tr>\n",
       "      <th>1</th>\n",
       "      <td>5773.08</td>\n",
       "      <td>5951.155</td>\n",
       "      <td>5732.94</td>\n",
       "      <td>5886.730</td>\n",
       "      <td>1189933.120</td>\n",
       "      <td>145.375</td>\n",
       "      <td>5.0683</td>\n",
       "      <td>-303.833331</td>\n",
       "      <td>193.673349</td>\n",
       "      <td>233.669</td>\n",
       "      <td>6015.778269</td>\n",
       "      <td>5899.670469</td>\n",
       "      <td>5650.36285</td>\n",
       "      <td>383.837</td>\n",
       "      <td>5658.7340</td>\n",
       "      <td>254.429</td>\n",
       "      <td>9.064430</td>\n",
       "      <td>0.026143</td>\n",
       "      <td>3.165430e+07</td>\n",
       "    </tr>\n",
       "  </tbody>\n",
       "</table>\n",
       "</div>"
      ],
      "text/plain": [
       "        0         1        2         3            4        5       6   \\\n",
       "0  5453.76  5573.425  5346.76  5450.205   701666.325  144.885  5.1819   \n",
       "1  5773.08  5951.155  5732.94  5886.730  1189933.120  145.375  5.0683   \n",
       "\n",
       "           7           8        9            10           11          12  \\\n",
       "0 -417.255691 -231.389668  226.662  6248.020462  5985.488387  5652.11220   \n",
       "1 -303.833331  193.673349  233.669  6015.778269  5899.670469  5650.36285   \n",
       "\n",
       "        13         14       15         16        17            18  \n",
       "0 -345.946  5570.1945 -432.450 -14.603742 -0.086456 -1.650223e+08  \n",
       "1  383.837  5658.7340  254.429   9.064430  0.026143  3.165430e+07  "
      ]
     },
     "execution_count": 97,
     "metadata": {},
     "output_type": "execute_result"
    }
   ],
   "source": [
    "pd.DataFrame(cA2).head(2)"
   ]
  },
  {
   "cell_type": "code",
   "execution_count": 98,
   "metadata": {},
   "outputs": [
    {
     "data": {
      "text/html": [
       "<div>\n",
       "<style scoped>\n",
       "    .dataframe tbody tr th:only-of-type {\n",
       "        vertical-align: middle;\n",
       "    }\n",
       "\n",
       "    .dataframe tbody tr th {\n",
       "        vertical-align: top;\n",
       "    }\n",
       "\n",
       "    .dataframe thead th {\n",
       "        text-align: right;\n",
       "    }\n",
       "</style>\n",
       "<table border=\"1\" class=\"dataframe\">\n",
       "  <thead>\n",
       "    <tr style=\"text-align: right;\">\n",
       "      <th></th>\n",
       "      <th>0</th>\n",
       "      <th>1</th>\n",
       "      <th>2</th>\n",
       "      <th>3</th>\n",
       "      <th>4</th>\n",
       "      <th>5</th>\n",
       "      <th>6</th>\n",
       "      <th>7</th>\n",
       "      <th>8</th>\n",
       "      <th>9</th>\n",
       "      <th>10</th>\n",
       "      <th>11</th>\n",
       "      <th>12</th>\n",
       "      <th>13</th>\n",
       "      <th>14</th>\n",
       "      <th>15</th>\n",
       "      <th>16</th>\n",
       "      <th>17</th>\n",
       "      <th>18</th>\n",
       "    </tr>\n",
       "  </thead>\n",
       "  <tbody>\n",
       "    <tr>\n",
       "      <th>0</th>\n",
       "      <td>68.285302</td>\n",
       "      <td>44.858854</td>\n",
       "      <td>14.226988</td>\n",
       "      <td>-0.883883</td>\n",
       "      <td>6613.004039</td>\n",
       "      <td>0.247487</td>\n",
       "      <td>-0.157826</td>\n",
       "      <td>0.462224</td>\n",
       "      <td>7.615990</td>\n",
       "      <td>30.635401</td>\n",
       "      <td>23.378582</td>\n",
       "      <td>22.502912</td>\n",
       "      <td>20.624608</td>\n",
       "      <td>42.938352</td>\n",
       "      <td>38.175281</td>\n",
       "      <td>-19.887378</td>\n",
       "      <td>-0.612971</td>\n",
       "      <td>-0.050508</td>\n",
       "      <td>1.575896e+07</td>\n",
       "    </tr>\n",
       "    <tr>\n",
       "      <th>1</th>\n",
       "      <td>-68.398439</td>\n",
       "      <td>16.850355</td>\n",
       "      <td>-69.833866</td>\n",
       "      <td>13.265323</td>\n",
       "      <td>54838.216846</td>\n",
       "      <td>0.014142</td>\n",
       "      <td>0.009192</td>\n",
       "      <td>-4.371506</td>\n",
       "      <td>-21.294887</td>\n",
       "      <td>86.690584</td>\n",
       "      <td>25.411732</td>\n",
       "      <td>15.966482</td>\n",
       "      <td>7.623742</td>\n",
       "      <td>21.305127</td>\n",
       "      <td>10.489081</td>\n",
       "      <td>118.339270</td>\n",
       "      <td>3.854745</td>\n",
       "      <td>-0.009910</td>\n",
       "      <td>1.139691e+07</td>\n",
       "    </tr>\n",
       "  </tbody>\n",
       "</table>\n",
       "</div>"
      ],
      "text/plain": [
       "          0          1          2          3             4         5   \\\n",
       "0  68.285302  44.858854  14.226988  -0.883883   6613.004039  0.247487   \n",
       "1 -68.398439  16.850355 -69.833866  13.265323  54838.216846  0.014142   \n",
       "\n",
       "         6         7          8          9          10         11         12  \\\n",
       "0 -0.157826  0.462224   7.615990  30.635401  23.378582  22.502912  20.624608   \n",
       "1  0.009192 -4.371506 -21.294887  86.690584  25.411732  15.966482   7.623742   \n",
       "\n",
       "          13         14          15        16        17            18  \n",
       "0  42.938352  38.175281  -19.887378 -0.612971 -0.050508  1.575896e+07  \n",
       "1  21.305127  10.489081  118.339270  3.854745 -0.009910  1.139691e+07  "
      ]
     },
     "execution_count": 98,
     "metadata": {},
     "output_type": "execute_result"
    }
   ],
   "source": [
    "pd.DataFrame(cD1).head(2)"
   ]
  },
  {
   "cell_type": "code",
   "execution_count": 99,
   "metadata": {
    "scrolled": true
   },
   "outputs": [
    {
     "data": {
      "text/html": [
       "<div>\n",
       "<style scoped>\n",
       "    .dataframe tbody tr th:only-of-type {\n",
       "        vertical-align: middle;\n",
       "    }\n",
       "\n",
       "    .dataframe tbody tr th {\n",
       "        vertical-align: top;\n",
       "    }\n",
       "\n",
       "    .dataframe thead th {\n",
       "        text-align: right;\n",
       "    }\n",
       "</style>\n",
       "<table border=\"1\" class=\"dataframe\">\n",
       "  <thead>\n",
       "    <tr style=\"text-align: right;\">\n",
       "      <th></th>\n",
       "      <th>0</th>\n",
       "      <th>1</th>\n",
       "      <th>2</th>\n",
       "      <th>3</th>\n",
       "      <th>4</th>\n",
       "      <th>5</th>\n",
       "      <th>6</th>\n",
       "      <th>7</th>\n",
       "      <th>8</th>\n",
       "      <th>9</th>\n",
       "      <th>10</th>\n",
       "      <th>11</th>\n",
       "      <th>12</th>\n",
       "      <th>13</th>\n",
       "      <th>14</th>\n",
       "      <th>15</th>\n",
       "      <th>16</th>\n",
       "      <th>17</th>\n",
       "      <th>18</th>\n",
       "    </tr>\n",
       "  </thead>\n",
       "  <tbody>\n",
       "    <tr>\n",
       "      <th>0</th>\n",
       "      <td>48.07</td>\n",
       "      <td>-18.105</td>\n",
       "      <td>13.48</td>\n",
       "      <td>-52.255</td>\n",
       "      <td>-133986.825</td>\n",
       "      <td>-0.555</td>\n",
       "      <td>0.0425</td>\n",
       "      <td>-9.555123</td>\n",
       "      <td>-37.279072</td>\n",
       "      <td>-31.587</td>\n",
       "      <td>65.868615</td>\n",
       "      <td>50.184091</td>\n",
       "      <td>21.22100</td>\n",
       "      <td>102.034</td>\n",
       "      <td>78.4699</td>\n",
       "      <td>-100.965</td>\n",
       "      <td>-3.378596</td>\n",
       "      <td>-0.037968</td>\n",
       "      <td>-3.178985e+07</td>\n",
       "    </tr>\n",
       "    <tr>\n",
       "      <th>1</th>\n",
       "      <td>-124.90</td>\n",
       "      <td>-121.025</td>\n",
       "      <td>-144.26</td>\n",
       "      <td>-102.130</td>\n",
       "      <td>-120132.100</td>\n",
       "      <td>0.295</td>\n",
       "      <td>0.0497</td>\n",
       "      <td>-42.945891</td>\n",
       "      <td>-86.354396</td>\n",
       "      <td>13.534</td>\n",
       "      <td>49.447538</td>\n",
       "      <td>-5.489996</td>\n",
       "      <td>-6.69625</td>\n",
       "      <td>-207.073</td>\n",
       "      <td>-104.7668</td>\n",
       "      <td>-92.569</td>\n",
       "      <td>-3.278158</td>\n",
       "      <td>-0.038239</td>\n",
       "      <td>-9.512131e+07</td>\n",
       "    </tr>\n",
       "  </tbody>\n",
       "</table>\n",
       "</div>"
      ],
      "text/plain": [
       "       0        1       2        3           4      5       6          7   \\\n",
       "0   48.07  -18.105   13.48  -52.255 -133986.825 -0.555  0.0425  -9.555123   \n",
       "1 -124.90 -121.025 -144.26 -102.130 -120132.100  0.295  0.0497 -42.945891   \n",
       "\n",
       "          8       9          10         11        12       13        14  \\\n",
       "0 -37.279072 -31.587  65.868615  50.184091  21.22100  102.034   78.4699   \n",
       "1 -86.354396  13.534  49.447538  -5.489996  -6.69625 -207.073 -104.7668   \n",
       "\n",
       "        15        16        17            18  \n",
       "0 -100.965 -3.378596 -0.037968 -3.178985e+07  \n",
       "1  -92.569 -3.278158 -0.038239 -9.512131e+07  "
      ]
     },
     "execution_count": 99,
     "metadata": {},
     "output_type": "execute_result"
    }
   ],
   "source": [
    "pd.DataFrame(cD2).head(2)"
   ]
  },
  {
   "cell_type": "code",
   "execution_count": 100,
   "metadata": {
    "scrolled": true
   },
   "outputs": [],
   "source": [
    "#plt.plot(cA2);"
   ]
  },
  {
   "cell_type": "code",
   "execution_count": 77,
   "metadata": {},
   "outputs": [],
   "source": [
    "#plt.plot(cD1);"
   ]
  },
  {
   "cell_type": "code",
   "execution_count": 78,
   "metadata": {
    "scrolled": true
   },
   "outputs": [],
   "source": [
    "#plt.plot(cD2);"
   ]
  },
  {
   "cell_type": "code",
   "execution_count": 79,
   "metadata": {},
   "outputs": [],
   "source": [
    "#plt.plot(data);"
   ]
  },
  {
   "cell_type": "code",
   "execution_count": 80,
   "metadata": {},
   "outputs": [
    {
     "data": {
      "text/plain": [
       "2010"
      ]
     },
     "execution_count": 80,
     "metadata": {},
     "output_type": "execute_result"
    }
   ],
   "source": [
    "reconstructed_signal = pywt.waverec(coeffs, 'haar',axis=0)\n",
    "len(reconstructed_signal)"
   ]
  },
  {
   "cell_type": "code",
   "execution_count": 81,
   "metadata": {
    "scrolled": true
   },
   "outputs": [],
   "source": [
    "#plt.plot(data);\n",
    "#plt.plot(reconstructed_signal);"
   ]
  },
  {
   "cell_type": "code",
   "execution_count": 82,
   "metadata": {},
   "outputs": [
    {
     "data": {
      "text/html": [
       "<div>\n",
       "<style scoped>\n",
       "    .dataframe tbody tr th:only-of-type {\n",
       "        vertical-align: middle;\n",
       "    }\n",
       "\n",
       "    .dataframe tbody tr th {\n",
       "        vertical-align: top;\n",
       "    }\n",
       "\n",
       "    .dataframe thead th {\n",
       "        text-align: right;\n",
       "    }\n",
       "</style>\n",
       "<table border=\"1\" class=\"dataframe\">\n",
       "  <thead>\n",
       "    <tr style=\"text-align: right;\">\n",
       "      <th></th>\n",
       "      <th>0</th>\n",
       "      <th>1</th>\n",
       "      <th>2</th>\n",
       "      <th>3</th>\n",
       "      <th>4</th>\n",
       "      <th>5</th>\n",
       "      <th>6</th>\n",
       "      <th>7</th>\n",
       "      <th>8</th>\n",
       "      <th>9</th>\n",
       "      <th>10</th>\n",
       "      <th>11</th>\n",
       "      <th>12</th>\n",
       "      <th>13</th>\n",
       "      <th>14</th>\n",
       "      <th>15</th>\n",
       "      <th>16</th>\n",
       "      <th>17</th>\n",
       "      <th>18</th>\n",
       "    </tr>\n",
       "  </thead>\n",
       "  <tbody>\n",
       "    <tr>\n",
       "      <th>0</th>\n",
       "      <td>2799.20</td>\n",
       "      <td>2809.38</td>\n",
       "      <td>2690.18</td>\n",
       "      <td>2698.35</td>\n",
       "      <td>288515.85</td>\n",
       "      <td>72.34</td>\n",
       "      <td>2.5006</td>\n",
       "      <td>-213.078565</td>\n",
       "      <td>-128.949052</td>\n",
       "      <td>119.200</td>\n",
       "      <td>3173.475692</td>\n",
       "      <td>3033.748201</td>\n",
       "      <td>2851.2504</td>\n",
       "      <td>-91.594</td>\n",
       "      <td>2851.3262</td>\n",
       "      <td>-280.770</td>\n",
       "      <td>-9.424605</td>\n",
       "      <td>-0.097927</td>\n",
       "      <td>-8.726278e+07</td>\n",
       "    </tr>\n",
       "    <tr>\n",
       "      <th>1</th>\n",
       "      <td>2702.63</td>\n",
       "      <td>2745.94</td>\n",
       "      <td>2670.06</td>\n",
       "      <td>2699.60</td>\n",
       "      <td>279163.65</td>\n",
       "      <td>71.99</td>\n",
       "      <td>2.7238</td>\n",
       "      <td>-213.732249</td>\n",
       "      <td>-139.719688</td>\n",
       "      <td>75.875</td>\n",
       "      <td>3140.413385</td>\n",
       "      <td>3001.924277</td>\n",
       "      <td>2822.0828</td>\n",
       "      <td>-152.318</td>\n",
       "      <td>2797.3382</td>\n",
       "      <td>-252.645</td>\n",
       "      <td>-8.557733</td>\n",
       "      <td>-0.026497</td>\n",
       "      <td>-1.095493e+08</td>\n",
       "    </tr>\n",
       "  </tbody>\n",
       "</table>\n",
       "</div>"
      ],
      "text/plain": [
       "        0        1        2        3          4      5       6           7   \\\n",
       "0  2799.20  2809.38  2690.18  2698.35  288515.85  72.34  2.5006 -213.078565   \n",
       "1  2702.63  2745.94  2670.06  2699.60  279163.65  71.99  2.7238 -213.732249   \n",
       "\n",
       "           8        9            10           11         12       13  \\\n",
       "0 -128.949052  119.200  3173.475692  3033.748201  2851.2504  -91.594   \n",
       "1 -139.719688   75.875  3140.413385  3001.924277  2822.0828 -152.318   \n",
       "\n",
       "          14       15        16        17            18  \n",
       "0  2851.3262 -280.770 -9.424605 -0.097927 -8.726278e+07  \n",
       "1  2797.3382 -252.645 -8.557733 -0.026497 -1.095493e+08  "
      ]
     },
     "execution_count": 82,
     "metadata": {},
     "output_type": "execute_result"
    }
   ],
   "source": [
    "pd.DataFrame(reconstructed_signal).head(2)"
   ]
  },
  {
   "cell_type": "code",
   "execution_count": 83,
   "metadata": {
    "scrolled": true
   },
   "outputs": [
    {
     "data": {
      "text/html": [
       "<div>\n",
       "<style scoped>\n",
       "    .dataframe tbody tr th:only-of-type {\n",
       "        vertical-align: middle;\n",
       "    }\n",
       "\n",
       "    .dataframe tbody tr th {\n",
       "        vertical-align: top;\n",
       "    }\n",
       "\n",
       "    .dataframe thead th {\n",
       "        text-align: right;\n",
       "    }\n",
       "</style>\n",
       "<table border=\"1\" class=\"dataframe\">\n",
       "  <thead>\n",
       "    <tr style=\"text-align: right;\">\n",
       "      <th></th>\n",
       "      <th>open</th>\n",
       "      <th>high</th>\n",
       "      <th>low</th>\n",
       "      <th>close</th>\n",
       "      <th>volume</th>\n",
       "      <th>us dollar index</th>\n",
       "      <th>shibor</th>\n",
       "      <th>macd</th>\n",
       "      <th>cci</th>\n",
       "      <th>atr</th>\n",
       "      <th>boll</th>\n",
       "      <th>ema20</th>\n",
       "      <th>ma10</th>\n",
       "      <th>mtm6</th>\n",
       "      <th>ma5</th>\n",
       "      <th>mtm12</th>\n",
       "      <th>roc</th>\n",
       "      <th>smi</th>\n",
       "      <th>wvad</th>\n",
       "    </tr>\n",
       "  </thead>\n",
       "  <tbody>\n",
       "    <tr>\n",
       "      <th>0</th>\n",
       "      <td>2799.20</td>\n",
       "      <td>2809.38</td>\n",
       "      <td>2690.18</td>\n",
       "      <td>2698.35</td>\n",
       "      <td>288515.85</td>\n",
       "      <td>72.34</td>\n",
       "      <td>2.5006</td>\n",
       "      <td>-213.078565</td>\n",
       "      <td>-128.949052</td>\n",
       "      <td>119.200</td>\n",
       "      <td>3173.475692</td>\n",
       "      <td>3033.748201</td>\n",
       "      <td>2851.2504</td>\n",
       "      <td>-91.594</td>\n",
       "      <td>2851.3262</td>\n",
       "      <td>-280.770</td>\n",
       "      <td>-9.424605</td>\n",
       "      <td>-0.097927</td>\n",
       "      <td>-8.726278e+07</td>\n",
       "    </tr>\n",
       "    <tr>\n",
       "      <th>1</th>\n",
       "      <td>2702.63</td>\n",
       "      <td>2745.94</td>\n",
       "      <td>2670.06</td>\n",
       "      <td>2699.60</td>\n",
       "      <td>279163.65</td>\n",
       "      <td>71.99</td>\n",
       "      <td>2.7238</td>\n",
       "      <td>-213.732249</td>\n",
       "      <td>-139.719688</td>\n",
       "      <td>75.875</td>\n",
       "      <td>3140.413385</td>\n",
       "      <td>3001.924277</td>\n",
       "      <td>2822.0828</td>\n",
       "      <td>-152.318</td>\n",
       "      <td>2797.3382</td>\n",
       "      <td>-252.645</td>\n",
       "      <td>-8.557733</td>\n",
       "      <td>-0.026497</td>\n",
       "      <td>-1.095493e+08</td>\n",
       "    </tr>\n",
       "  </tbody>\n",
       "</table>\n",
       "</div>"
      ],
      "text/plain": [
       "      open     high      low    close     volume  us dollar index  shibor  \\\n",
       "0  2799.20  2809.38  2690.18  2698.35  288515.85            72.34  2.5006   \n",
       "1  2702.63  2745.94  2670.06  2699.60  279163.65            71.99  2.7238   \n",
       "\n",
       "         macd         cci      atr         boll        ema20       ma10  \\\n",
       "0 -213.078565 -128.949052  119.200  3173.475692  3033.748201  2851.2504   \n",
       "1 -213.732249 -139.719688   75.875  3140.413385  3001.924277  2822.0828   \n",
       "\n",
       "      mtm6        ma5    mtm12       roc       smi          wvad  \n",
       "0  -91.594  2851.3262 -280.770 -9.424605 -0.097927 -8.726278e+07  \n",
       "1 -152.318  2797.3382 -252.645 -8.557733 -0.026497 -1.095493e+08  "
      ]
     },
     "execution_count": 83,
     "metadata": {},
     "output_type": "execute_result"
    }
   ],
   "source": [
    "data.head(2)"
   ]
  },
  {
   "cell_type": "code",
   "execution_count": 84,
   "metadata": {},
   "outputs": [],
   "source": [
    "# http://connor-johnson.com/2016/01/24/using-pywavelets-to-remove-high-frequency-noise/\n",
    "def waveletSmooth( x, wavelet=\"haar\", level=1, declevel=3):\n",
    "    # calculate the wavelet coefficients\n",
    "    coeff = pywt.wavedec( x, wavelet, mode=\"per\",level=declevel,axis=0 )\n",
    "    # calculate a threshold\n",
    "    sigma = mad(coeff[-level])\n",
    "    uthresh = sigma * np.sqrt( 2*np.log( len( x ) ) )\n",
    "    coeff[1:] = ( pywt.threshold( i, value=uthresh, mode=\"soft\" ) for i in coeff[1:] )\n",
    "    # reconstruct the signal using the thresholded coefficients\n",
    "    y = pywt.waverec( coeff, wavelet, mode=\"per\",axis=0 )\n",
    "    f, ax = plt.subplots(figsize=(8,6))\n",
    "    plt.plot( x, color=\"b\", alpha=0.5)\n",
    "    plt.plot( y, color=\"r\")\n",
    "    ax.set_xlim((0,len(y)))\n",
    "    return y"
   ]
  },
  {
   "cell_type": "code",
   "execution_count": 85,
   "metadata": {},
   "outputs": [],
   "source": [
    "# handles, labels = plt.gca().get_legend_handles_labels()\n",
    "# by_label = OrderedDict(zip(labels, handles))\n",
    "# plt.legend(by_label.values(), by_label.keys())"
   ]
  },
  {
   "cell_type": "code",
   "execution_count": 86,
   "metadata": {},
   "outputs": [
    {
     "data": {
      "image/png": "[encoded data removed]",
      "text/plain": [
       "<Figure size 576x432 with 1 Axes>"
      ]
     },
     "metadata": {
      "needs_background": "light"
     },
     "output_type": "display_data"
    }
   ],
   "source": [
    "waveletSmooth(data[:300]);"
   ]
  },
  {
   "cell_type": "code",
   "execution_count": 87,
   "metadata": {},
   "outputs": [
    {
     "data": {
      "image/png": "[encoded data removed]",
      "text/plain": [
       "<Figure size 576x432 with 1 Axes>"
      ]
     },
     "metadata": {
      "needs_background": "light"
     },
     "output_type": "display_data"
    }
   ],
   "source": [
    "waveletSmooth(data[:100]);"
   ]
  },
  {
   "cell_type": "code",
   "execution_count": 88,
   "metadata": {},
   "outputs": [
    {
     "data": {
      "image/png": "[encoded data removed]",
      "text/plain": [
       "<Figure size 576x432 with 1 Axes>"
      ]
     },
     "metadata": {
      "needs_background": "light"
     },
     "output_type": "display_data"
    }
   ],
   "source": [
    "waveletSmooth(data[:70]);"
   ]
  },
  {
   "cell_type": "code",
   "execution_count": 89,
   "metadata": {
    "scrolled": false
   },
   "outputs": [
    {
     "data": {
      "image/png": "[encoded data removed]",
      "text/plain": [
       "<Figure size 576x432 with 1 Axes>"
      ]
     },
     "metadata": {
      "needs_background": "light"
     },
     "output_type": "display_data"
    }
   ],
   "source": [
    "denoised_data = waveletSmooth(data);"
   ]
  },
  {
   "cell_type": "code",
   "execution_count": 90,
   "metadata": {},
   "outputs": [],
   "source": [
    "# print(w)\n",
    "# w.filter_bank == (w.dec_lo, w.dec_hi, w.rec_lo, w.rec_hi)\n",
    "# print(w.filter_bank)\n",
    "# # https://pywavelets.readthedocs.io/en/latest/ref/other-functions.html#pywt.orthogonal_filter_bank\n",
    "# #print(pywt.orthogonal_filter_bank([2,2]))"
   ]
  },
  {
   "cell_type": "code",
   "execution_count": null,
   "metadata": {},
   "outputs": [],
   "source": []
  }
 ],
 "metadata": {
  "kernelspec": {
   "display_name": "Python 3",
   "language": "python",
   "name": "python3"
  },
  "language_info": {
   "codemirror_mode": {
    "name": "ipython",
    "version": 3
   },
   "file_extension": ".py",
   "mimetype": "text/x-python",
   "name": "python",
   "nbconvert_exporter": "python",
   "pygments_lexer": "ipython3",
   "version": "3.6.6"
  }
 },
 "nbformat": 4,
 "nbformat_minor": 2
}
